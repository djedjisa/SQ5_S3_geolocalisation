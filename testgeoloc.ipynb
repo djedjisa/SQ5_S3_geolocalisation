{
 "cells": [
  {
   "cell_type": "code",
   "execution_count": null,
   "metadata": {
    "collapsed": true
   },
   "outputs": [],
   "source": [
    "import folium"
   ]
  },
  {
   "cell_type": "code",
   "execution_count": null,
   "metadata": {
    "collapsed": true
   },
   "outputs": [],
   "source": [
    "fmap = folium.Map(location=[55.7353606, 10.822693], tiles=\"OpenStreetMap\", zoom_start=8)"
   ]
  },
  {
   "cell_type": "code",
   "execution_count": null,
   "metadata": {},
   "outputs": [],
   "source": [
    "fmap"
   ]
  },
  {
   "cell_type": "code",
   "execution_count": null,
   "metadata": {},
   "outputs": [],
   "source": [
    "# Ajout d'un marqueur\n",
    "folium.Marker([55.8716693, 9.8839912],\n",
    "              popup=\"VIA University College\",\n",
    "              icon=folium.Icon(color='green')).add_to(fmap)"
   ]
  },
  {
   "cell_type": "code",
   "execution_count": null,
   "metadata": {},
   "outputs": [],
   "source": [
    "fmap"
   ]
  },
  {
   "cell_type": "code",
   "execution_count": null,
   "metadata": {},
   "outputs": [],
   "source": [
    "# Ajout d'une ligne brisée définie à partir de 5 points\n",
    "points = [\n",
    "  (55.6713808, 12.4533972),\n",
    "  (55.4013094, 11.2062387),\n",
    "  (55.3311408, 10.6322608),\n",
    "  (55.7148992, 9.3734841),\n",
    "  (55.8716693, 9.8839912)\n",
    "]\n",
    "\n",
    "folium.PolyLine(points, color=\"blue\", weight=2.5, opacity=0.8).add_to(fmap)"
   ]
  },
  {
   "cell_type": "code",
   "execution_count": null,
   "metadata": {},
   "outputs": [],
   "source": [
    "fmap"
   ]
  },
  {
   "cell_type": "code",
   "execution_count": null,
   "metadata": {
    "collapsed": true
   },
   "outputs": [],
   "source": []
  }
 ],
 "metadata": {
  "kernelspec": {
   "display_name": "Python 3",
   "language": "python",
   "name": "python3"
  },
  "language_info": {
   "codemirror_mode": {
    "name": "ipython",
    "version": 3
   },
   "file_extension": ".py",
   "mimetype": "text/x-python",
   "name": "python",
   "nbconvert_exporter": "python",
   "pygments_lexer": "ipython3",
   "version": "3.6.2"
  }
 },
 "nbformat": 4,
 "nbformat_minor": 2
}
